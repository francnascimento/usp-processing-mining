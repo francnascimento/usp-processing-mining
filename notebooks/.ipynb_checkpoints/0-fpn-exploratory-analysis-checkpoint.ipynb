{
 "cells": [
  {
   "cell_type": "code",
   "execution_count": 1,
   "id": "a6039144-a128-4644-b5bd-5a0585ddf054",
   "metadata": {},
   "outputs": [],
   "source": [
    "import pandas as pd\n",
    "\n",
    "pd.set_option('display.max_columns', None)"
   ]
  },
  {
   "cell_type": "markdown",
   "id": "924233ab-065e-4940-8b1e-4a5933d6d2a7",
   "metadata": {},
   "source": [
    "### Load and merge logs"
   ]
  },
  {
   "cell_type": "code",
   "execution_count": 63,
   "id": "38b0813e-858b-4e6a-9185-fd50baf2db0f",
   "metadata": {},
   "outputs": [],
   "source": [
    "bpi_path = '../data/bpi-challenge-2014/' \n",
    "\n",
    "df_interaction = pd.read_csv(bpi_path + 'Detail_Interaction.csv', sep=';', low_memory=False)\n",
    "df_incident_activity = pd.read_csv(bpi_path + 'Detail_Incident_Activity.csv', sep=';', low_memory=False)\n",
    "df_incident = pd.read_csv(bpi_path + 'Detail_Incident.csv', sep=';', low_memory=False)\n",
    "\n",
    "# cleaning bad reading\n",
    "df_incident = df_incident.dropna(axis=0, how='all')\n",
    "df_incident = df_incident.dropna(axis=1, how='all')"
   ]
  },
  {
   "cell_type": "code",
   "execution_count": 64,
   "id": "3d3cffc3-511e-49d0-8a14-945c25f43a14",
   "metadata": {},
   "outputs": [],
   "source": [
    "df = df_incident.merge(df_incident_activity, how='left', left_on='Incident ID', right_on='Incident ID')"
   ]
  },
  {
   "cell_type": "code",
   "execution_count": 65,
   "id": "c3ea739b-1fd8-484c-a2a4-d376b1b401ec",
   "metadata": {},
   "outputs": [],
   "source": [
    "columns = ['Incident ID', 'IncidentActivity_Type', 'DateStamp', 'Assignment Group']\n",
    "rename_columns = {\n",
    "    'Incident ID':'case_id',\n",
    "    'IncidentActivity_Type':'activity',\n",
    "    'DateStamp':'timestamp',\n",
    "    'Assignment Group':'resource'\n",
    "}\n",
    "df = df[columns].rename(columns=rename_columns)"
   ]
  },
  {
   "cell_type": "code",
   "execution_count": 66,
   "id": "1addca4f-72a6-4952-8dc9-fe2da89e3b33",
   "metadata": {},
   "outputs": [],
   "source": [
    "destiny_path = '../data/bpi-incident-process/incident-process.csv'\n",
    "df.to_csv(destiny_path, index=False)"
   ]
  },
  {
   "cell_type": "markdown",
   "id": "a4fe7969-0bb2-431e-afd3-68d5cad7e0c7",
   "metadata": {},
   "source": [
    "### Checking dataframe"
   ]
  },
  {
   "cell_type": "code",
   "execution_count": 67,
   "id": "e5c4e661-14d4-497b-b389-1edd2143a149",
   "metadata": {},
   "outputs": [],
   "source": [
    "df = pd.read_csv(destiny_path, low_memory=False)"
   ]
  },
  {
   "cell_type": "code",
   "execution_count": 68,
   "id": "fff25896-2411-4bbe-ab42-23b2690c707f",
   "metadata": {},
   "outputs": [
    {
     "data": {
      "text/html": [
       "<div>\n",
       "<style scoped>\n",
       "    .dataframe tbody tr th:only-of-type {\n",
       "        vertical-align: middle;\n",
       "    }\n",
       "\n",
       "    .dataframe tbody tr th {\n",
       "        vertical-align: top;\n",
       "    }\n",
       "\n",
       "    .dataframe thead th {\n",
       "        text-align: right;\n",
       "    }\n",
       "</style>\n",
       "<table border=\"1\" class=\"dataframe\">\n",
       "  <thead>\n",
       "    <tr style=\"text-align: right;\">\n",
       "      <th></th>\n",
       "      <th>case_id</th>\n",
       "      <th>activity</th>\n",
       "      <th>timestamp</th>\n",
       "      <th>resource</th>\n",
       "    </tr>\n",
       "  </thead>\n",
       "  <tbody>\n",
       "    <tr>\n",
       "      <th>0</th>\n",
       "      <td>IM0000004</td>\n",
       "      <td>Reassignment</td>\n",
       "      <td>07-01-2013 08:17:17</td>\n",
       "      <td>TEAM0001</td>\n",
       "    </tr>\n",
       "    <tr>\n",
       "      <th>1</th>\n",
       "      <td>IM0000004</td>\n",
       "      <td>Reassignment</td>\n",
       "      <td>04-11-2013 13:41:30</td>\n",
       "      <td>TEAM0002</td>\n",
       "    </tr>\n",
       "    <tr>\n",
       "      <th>2</th>\n",
       "      <td>IM0000004</td>\n",
       "      <td>Update from customer</td>\n",
       "      <td>04-11-2013 13:41:30</td>\n",
       "      <td>TEAM0002</td>\n",
       "    </tr>\n",
       "    <tr>\n",
       "      <th>3</th>\n",
       "      <td>IM0000004</td>\n",
       "      <td>Operator Update</td>\n",
       "      <td>04-11-2013 12:09:37</td>\n",
       "      <td>TEAM0003</td>\n",
       "    </tr>\n",
       "    <tr>\n",
       "      <th>4</th>\n",
       "      <td>IM0000004</td>\n",
       "      <td>Assignment</td>\n",
       "      <td>04-11-2013 12:09:37</td>\n",
       "      <td>TEAM0003</td>\n",
       "    </tr>\n",
       "    <tr>\n",
       "      <th>...</th>\n",
       "      <td>...</td>\n",
       "      <td>...</td>\n",
       "      <td>...</td>\n",
       "      <td>...</td>\n",
       "    </tr>\n",
       "    <tr>\n",
       "      <th>466660</th>\n",
       "      <td>IM0047056</td>\n",
       "      <td>Closed</td>\n",
       "      <td>31-03-2014 15:42:37</td>\n",
       "      <td>TEAM0191</td>\n",
       "    </tr>\n",
       "    <tr>\n",
       "      <th>466661</th>\n",
       "      <td>IM0047057</td>\n",
       "      <td>Open</td>\n",
       "      <td>31-03-2014 17:24:50</td>\n",
       "      <td>TEAM0199</td>\n",
       "    </tr>\n",
       "    <tr>\n",
       "      <th>466662</th>\n",
       "      <td>IM0047057</td>\n",
       "      <td>Update</td>\n",
       "      <td>31-03-2014 17:25:07</td>\n",
       "      <td>TEAM0199</td>\n",
       "    </tr>\n",
       "    <tr>\n",
       "      <th>466663</th>\n",
       "      <td>IM0047057</td>\n",
       "      <td>Closed</td>\n",
       "      <td>31-03-2014 22:47:33</td>\n",
       "      <td>TEAM0134</td>\n",
       "    </tr>\n",
       "    <tr>\n",
       "      <th>466664</th>\n",
       "      <td>IM0047057</td>\n",
       "      <td>Assignment</td>\n",
       "      <td>31-03-2014 20:38:58</td>\n",
       "      <td>TEAM0134</td>\n",
       "    </tr>\n",
       "  </tbody>\n",
       "</table>\n",
       "<p>466665 rows × 4 columns</p>\n",
       "</div>"
      ],
      "text/plain": [
       "          case_id              activity            timestamp  resource\n",
       "0       IM0000004          Reassignment  07-01-2013 08:17:17  TEAM0001\n",
       "1       IM0000004          Reassignment  04-11-2013 13:41:30  TEAM0002\n",
       "2       IM0000004  Update from customer  04-11-2013 13:41:30  TEAM0002\n",
       "3       IM0000004       Operator Update  04-11-2013 12:09:37  TEAM0003\n",
       "4       IM0000004            Assignment  04-11-2013 12:09:37  TEAM0003\n",
       "...           ...                   ...                  ...       ...\n",
       "466660  IM0047056                Closed  31-03-2014 15:42:37  TEAM0191\n",
       "466661  IM0047057                  Open  31-03-2014 17:24:50  TEAM0199\n",
       "466662  IM0047057                Update  31-03-2014 17:25:07  TEAM0199\n",
       "466663  IM0047057                Closed  31-03-2014 22:47:33  TEAM0134\n",
       "466664  IM0047057            Assignment  31-03-2014 20:38:58  TEAM0134\n",
       "\n",
       "[466665 rows x 4 columns]"
      ]
     },
     "execution_count": 68,
     "metadata": {},
     "output_type": "execute_result"
    }
   ],
   "source": [
    "df"
   ]
  }
 ],
 "metadata": {
  "kernelspec": {
   "display_name": "Python 3 (ipykernel)",
   "language": "python",
   "name": "python3"
  },
  "language_info": {
   "codemirror_mode": {
    "name": "ipython",
    "version": 3
   },
   "file_extension": ".py",
   "mimetype": "text/x-python",
   "name": "python",
   "nbconvert_exporter": "python",
   "pygments_lexer": "ipython3",
   "version": "3.7.12"
  }
 },
 "nbformat": 4,
 "nbformat_minor": 5
}
